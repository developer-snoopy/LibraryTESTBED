{
 "cells": [
  {
   "cell_type": "markdown",
   "metadata": {},
   "source": [
    "# <span style=\"background-color:Brown\"> **1. How to create the Header**\n",
    " </span>\n",
    "\n",
    "### <span style=\"background-color:orange\"> **1.1. Using Sharp(#) for setting up the title levels** </span>\n",
    "\n",
    "###### Head 1\n",
    "\n",
    "##### Head 2\n",
    "\n",
    "#### Head 3\n",
    "\n",
    "### Head 4\n",
    "\n",
    "## Head 5\n",
    "\n",
    "# Head 6"
   ]
  },
  {
   "cell_type": "markdown",
   "metadata": {},
   "source": [
    "### <span style=\"background-color:orange\"> **1.2. Using lines for setting the title levels**</span>\n",
    "\n",
    "\n",
    "Title 1 (h1)\n",
    "============\n",
    "\n",
    "\n",
    "Title 2 (h2)\n",
    "------------"
   ]
  },
  {
   "cell_type": "markdown",
   "metadata": {},
   "source": [
    "# <span style=\"background-color:brown\"> **2. How to display the code**</span>\n",
    "\n",
    "### <span style=\"background-color:orange\"> **2.1. Python**</span>\n",
    "\n",
    "\n",
    "```python\n",
    "\n",
    "text = \"Hello world\"\n",
    "\n",
    "def display(original_text, add_text):\n",
    "    display_text = original_text + add_text\n",
    "    print(display_text)\n",
    "\n",
    "for i in range(10):\n",
    "    display(text, str(i))\n",
    "\n",
    "\n",
    "```"
   ]
  },
  {
   "cell_type": "markdown",
   "metadata": {},
   "source": [
    "### <span style=\"background-color:orange\"> **2.2. Java**</span>\n",
    "\n",
    "\n",
    "```Java\n",
    "\n",
    "text = \"Hello world\"\n",
    "\n",
    "public static void main(String[] args) {\n",
    "    java.lang.System.out.println(text);\n",
    "\n",
    "```"
   ]
  },
  {
   "cell_type": "markdown",
   "metadata": {},
   "source": [
    "# <span style=\"background-color:brown\"> **3. How to include the resources**</span>\n",
    "\n",
    "### <span style=\"background-color:orange\"> **3.1. Add the Link**</span>\n",
    "\n",
    "\n",
    "[NAVER](http://www.naver.com)\n",
    "\n",
    "[Google](http://www.google.com)\n",
    "\n",
    "[Local Directory](../Jupyter/Markdown.ipynb)"
   ]
  },
  {
   "cell_type": "markdown",
   "metadata": {},
   "source": [
    "### <span style=\"background-color:orange\"> **3.2. How to add the pictures**</span>\n",
    "\n",
    "<img width=\"150\" src=\"http://www.gstatic.com/webp/gallery/4.jpg\" alt=\"Prunus\" title=\"A Wild Cherry (Prunus avium) in flower\">\n",
    "\n",
    "![Prunus](http://www.gstatic.com/webp/gallery/4.jpg)"
   ]
  }
 ],
 "metadata": {
  "language_info": {
   "name": "python"
  },
  "orig_nbformat": 4
 },
 "nbformat": 4,
 "nbformat_minor": 2
}
